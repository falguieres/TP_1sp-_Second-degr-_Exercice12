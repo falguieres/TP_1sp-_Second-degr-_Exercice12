{
 "cells": [
  {
   "cell_type": "markdown",
   "metadata": {
    "colab_type": "text",
    "id": "QxobjGi36HvE"
   },
   "source": [
    "# **TP : Instruction conditionnelle**\n",
    "# Exercice 12 de la fiche d'exercices 2 sur le second degré\n",
    "\n"
   ]
  },
  {
   "cell_type": "markdown",
   "metadata": {},
   "source": [
    "On considère l’équation (E) : ax² + bx + c = 0 où a, b et c sont des réels, a ≠ 0.\n",
    "\n",
    "1) Écrire en Python une fonction delta (a, b, c) qui retourne le discriminant de l’équation (E)."
   ]
  },
  {
   "cell_type": "code",
   "execution_count": null,
   "metadata": {},
   "outputs": [],
   "source": []
  },
  {
   "cell_type": "markdown",
   "metadata": {},
   "source": [
    "2) Compléter le programme ci-dessous afin qu'il donne le nombre de solutions de l'équation (E). "
   ]
  },
  {
   "cell_type": "code",
   "execution_count": null,
   "metadata": {},
   "outputs": [],
   "source": [
    "def nombre_solutions(a, b, c):\n",
    "    discriminant = delta(a, b, c)\n",
    "    if discriminant < 0:\n",
    "        return ....\n",
    "    elif discriminant .......:\n",
    "        return « l’équation admet une solution »\n",
    "    else:\n",
    "        return ....."
   ]
  },
  {
   "cell_type": "markdown",
   "metadata": {},
   "source": [
    "3) Tester ce programme pour les équations suivantes :\n",
    "\n",
    "    (E) : 3x² - 5x + 2 = 0\n",
    "    (E) : -x² + 3x - 6 = 0\n",
    "    (E) : 2x² - 12x + 18 = 0"
   ]
  },
  {
   "cell_type": "markdown",
   "metadata": {},
   "source": [
    "4) Modifier le programme écrit en 2) afin qu'il renvoie également les solutions de l'équation (E) si elle en a.\n",
    "\n",
    "Puis tester-le pour les équations du 3)."
   ]
  }
 ],
 "metadata": {
  "celltoolbar": "Aucun(e)",
  "colab": {
   "collapsed_sections": [],
   "name": "2nde TP 2 Python - Instruction conditionnelle.ipynb",
   "provenance": []
  },
  "kernelspec": {
   "display_name": "Python 3",
   "language": "python",
   "name": "python3"
  },
  "language_info": {
   "codemirror_mode": {
    "name": "ipython",
    "version": 3
   },
   "file_extension": ".py",
   "mimetype": "text/x-python",
   "name": "python",
   "nbconvert_exporter": "python",
   "pygments_lexer": "ipython3",
   "version": "3.7.3"
  }
 },
 "nbformat": 4,
 "nbformat_minor": 1
}
